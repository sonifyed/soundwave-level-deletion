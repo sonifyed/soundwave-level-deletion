{
 "cells": [
  {
   "cell_type": "code",
   "execution_count": 37,
   "metadata": {},
   "outputs": [],
   "source": [
    "import wave\n",
    "import pandas\n",
    "import numpy"
   ]
  },
  {
   "cell_type": "code",
   "execution_count": 38,
   "metadata": {},
   "outputs": [
    {
     "name": "stdout",
     "output_type": "stream",
     "text": [
      "input channels\n",
      "1\n",
      "input sample width\n",
      "2\n"
     ]
    }
   ],
   "source": [
    "#read csv containing LPI data\n",
    "df = pandas.read_csv('Global.csv')\n",
    "\n",
    "#open our input audio file\n",
    "raw = wave.open('audio-files/Bill-Withers-Lovely-Day.wav', 'rb')\n",
    "\n",
    "#get some info about our audio file (to help set gap_size)\n",
    "print('input channels')\n",
    "print(wave.Wave_read.getnchannels(raw))\n",
    "print('input sample width')\n",
    "print(wave.Wave_read.getsampwidth(raw))\n",
    "\n",
    "#set gap size: must be a multiple of the sample width times the number of channels!\n",
    "gap_size=2400\n",
    "listofzeros = [0] * gap_size\n",
    "\n",
    "#set number_of_segments (i.e. years in the LPI data)\n",
    "number_of_segments = 49\n",
    "\n",
    "#create output wave file\n",
    "raw2 = wave.open('output-wave-file-name.wav', 'wb')"
   ]
  },
  {
   "cell_type": "code",
   "execution_count": 39,
   "metadata": {},
   "outputs": [],
   "source": [
    "#set pointer location\n",
    "wave.Wave_read.setpos(raw, 0)\n",
    "\n",
    "#returns all frames as a bytes object\n",
    "bytes_frames = wave.Wave_read.readframes(raw, wave.Wave_read.getnframes(raw))\n",
    "#turn bytes object into bytearray\n",
    "bytearray_frames = bytearray(bytes_frames)\n",
    "\n",
    "#set segment size (equivalent to a single year of LPI)\n",
    "segment_size = wave.Wave_read.getnchannels(raw)*wave.Wave_read.getsampwidth(raw)*int(wave.Wave_read.getnframes(raw)/number_of_segments)\n",
    "\n",
    "#generate list of random numbers\n",
    "    #https://eli.thegreenplace.net/2018/slow-and-fast-methods-for-generating-random-integers-in-python/\n",
    "random_list = numpy.random.randint(10, size=wave.Wave_read.getnframes(raw))\n",
    "\n",
    "#deletion process\n",
    "x=0\n",
    "for j in range(49):\n",
    "    j_segment = j*segment_size\n",
    "    compare = int(round(10*df.at[j, 'LPI_final']))\n",
    "    for k in range(0,segment_size,gap_size):\n",
    "        randomint = random_list[x]\n",
    "        x=x+1\n",
    "        if randomint>compare:\n",
    "                bytearray_frames[j_segment+k:j_segment+k+gap_size]=listofzeros\n",
    "                \n",
    "#set all variables to match input wav\n",
    "wave.Wave_write.setnchannels(raw2, wave.Wave_read.getnchannels(raw))\n",
    "wave.Wave_write.setsampwidth(raw2, wave.Wave_read.getsampwidth(raw))\n",
    "wave.Wave_write.setframerate(raw2, wave.Wave_read.getframerate(raw))\n",
    "wave.Wave_write.setnframes(raw2, wave.Wave_read.getnframes(raw))\n",
    "\n",
    "#write bytearray_frames to output wave file\n",
    "wave.Wave_write.writeframes(raw2, bytearray_frames)\n",
    "wave.Wave_write.close(raw2)\n",
    "wave.Wave_read.close(raw)"
   ]
  },
  {
   "cell_type": "code",
   "execution_count": 36,
   "metadata": {},
   "outputs": [],
   "source": []
  }
 ],
 "metadata": {
  "kernelspec": {
   "display_name": "Python 3",
   "language": "python",
   "name": "python3"
  },
  "language_info": {
   "codemirror_mode": {
    "name": "ipython",
    "version": 3
   },
   "file_extension": ".py",
   "mimetype": "text/x-python",
   "name": "python",
   "nbconvert_exporter": "python",
   "pygments_lexer": "ipython3",
   "version": "3.7.4"
  }
 },
 "nbformat": 4,
 "nbformat_minor": 2
}
